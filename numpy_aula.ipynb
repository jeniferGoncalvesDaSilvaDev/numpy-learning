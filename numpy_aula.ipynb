{
  "nbformat": 4,
  "nbformat_minor": 0,
  "metadata": {
    "colab": {
      "provenance": [],
      "include_colab_link": true
    },
    "kernelspec": {
      "name": "python3",
      "display_name": "Python 3"
    },
    "language_info": {
      "name": "python"
    }
  },
  "cells": [
    {
      "cell_type": "markdown",
      "metadata": {
        "id": "view-in-github",
        "colab_type": "text"
      },
      "source": [
        "<a href=\"https://colab.research.google.com/github/jeniferGoncalvesDaSilvaDev/numpy-learning/blob/main/numpy_aula.ipynb\" target=\"_parent\"><img src=\"https://colab.research.google.com/assets/colab-badge.svg\" alt=\"Open In Colab\"/></a>"
      ]
    },
    {
      "cell_type": "code",
      "execution_count": 1,
      "metadata": {
        "id": "2hKnuHdHhQU4"
      },
      "outputs": [],
      "source": [
        "import numpy as np"
      ]
    },
    {
      "cell_type": "code",
      "source": [
        "#um array, pode ser classificado\n",
        "#1D- 1 dimensão, um vector ou vetor\n",
        "#2D- 2 dimensões, matriz\n",
        "#3d- 3 dimensões, tensor"
      ],
      "metadata": {
        "id": "G6eXvKMMhbRp"
      },
      "execution_count": null,
      "outputs": []
    },
    {
      "cell_type": "code",
      "source": [
        "#criando um array\n",
        "array = np.array([[24,5,6,8], [235,56,98,40]])\n",
        "#uma matriz, array de 2D\n",
        "print(array)"
      ],
      "metadata": {
        "colab": {
          "base_uri": "https://localhost:8080/"
        },
        "id": "eXzADNpqjjC9",
        "outputId": "b576b2bb-ede9-478a-d789-25a559d41a26"
      },
      "execution_count": 2,
      "outputs": [
        {
          "output_type": "stream",
          "name": "stdout",
          "text": [
            "[[ 24   5   6   8]\n",
            " [235  56  98  40]]\n"
          ]
        }
      ]
    },
    {
      "cell_type": "code",
      "source": [
        "print(type(array))"
      ],
      "metadata": {
        "colab": {
          "base_uri": "https://localhost:8080/"
        },
        "id": "xVSQ8FFcl2-Q",
        "outputId": "8eee9216-ff18-43c7-d855-bb3e432c7813"
      },
      "execution_count": 3,
      "outputs": [
        {
          "output_type": "stream",
          "name": "stdout",
          "text": [
            "<class 'numpy.ndarray'>\n"
          ]
        }
      ]
    },
    {
      "cell_type": "code",
      "source": [
        "#um array, que tem a diagonal principal ou secundária com zeros ou uns\n",
        "zero_array = np.zeros(shape=(5,3,6))\n",
        "print(zero_array)"
      ],
      "metadata": {
        "colab": {
          "base_uri": "https://localhost:8080/"
        },
        "id": "sFUJ70_gmh8U",
        "outputId": "ed87b036-69bf-4c1a-b2e4-aabf99ce0318"
      },
      "execution_count": 4,
      "outputs": [
        {
          "output_type": "stream",
          "name": "stdout",
          "text": [
            "[[[0. 0. 0. 0. 0. 0.]\n",
            "  [0. 0. 0. 0. 0. 0.]\n",
            "  [0. 0. 0. 0. 0. 0.]]\n",
            "\n",
            " [[0. 0. 0. 0. 0. 0.]\n",
            "  [0. 0. 0. 0. 0. 0.]\n",
            "  [0. 0. 0. 0. 0. 0.]]\n",
            "\n",
            " [[0. 0. 0. 0. 0. 0.]\n",
            "  [0. 0. 0. 0. 0. 0.]\n",
            "  [0. 0. 0. 0. 0. 0.]]\n",
            "\n",
            " [[0. 0. 0. 0. 0. 0.]\n",
            "  [0. 0. 0. 0. 0. 0.]\n",
            "  [0. 0. 0. 0. 0. 0.]]\n",
            "\n",
            " [[0. 0. 0. 0. 0. 0.]\n",
            "  [0. 0. 0. 0. 0. 0.]\n",
            "  [0. 0. 0. 0. 0. 0.]]]\n"
          ]
        }
      ]
    },
    {
      "cell_type": "code",
      "source": [
        "#array com valores de 1\n",
        "um_array = np.ones(shape =(2,3))\n",
        "print(um_array)"
      ],
      "metadata": {
        "colab": {
          "base_uri": "https://localhost:8080/"
        },
        "id": "pasa3ZH1nqTz",
        "outputId": "9688ddab-01ac-49b9-f78c-f368b85346e4"
      },
      "execution_count": 5,
      "outputs": [
        {
          "output_type": "stream",
          "name": "stdout",
          "text": [
            "[[1. 1. 1.]\n",
            " [1. 1. 1.]]\n"
          ]
        }
      ]
    },
    {
      "cell_type": "code",
      "source": [
        "#craindo um array vazio\n",
        "#cria valores aleatorios\n",
        "vazio_array = np.empty(shape =(3,4))\n",
        "print(vazio_array)"
      ],
      "metadata": {
        "colab": {
          "base_uri": "https://localhost:8080/"
        },
        "id": "bpeVh_WgoNmS",
        "outputId": "b9778813-1d2d-466d-e702-e143a4b64f03"
      },
      "execution_count": 7,
      "outputs": [
        {
          "output_type": "stream",
          "name": "stdout",
          "text": [
            "[[6.62075822e-310 0.00000000e+000 0.00000000e+000 0.00000000e+000]\n",
            " [0.00000000e+000 0.00000000e+000 0.00000000e+000 0.00000000e+000]\n",
            " [0.00000000e+000 0.00000000e+000 0.00000000e+000 0.00000000e+000]]\n"
          ]
        }
      ]
    },
    {
      "cell_type": "code",
      "source": [
        "#criar um array com um intervalo de números\n",
        "array_intervalo = np.arange(10)\n",
        "print(array_intervalo)"
      ],
      "metadata": {
        "colab": {
          "base_uri": "https://localhost:8080/"
        },
        "id": "pB5NVjPnoxUW",
        "outputId": "dc4cdd84-651d-4dbc-ac02-ecd53db667ab"
      },
      "execution_count": 8,
      "outputs": [
        {
          "output_type": "stream",
          "name": "stdout",
          "text": [
            "[0 1 2 3 4 5 6 7 8 9]\n"
          ]
        }
      ]
    },
    {
      "cell_type": "code",
      "source": [
        "#comecar com um valor:50, vai de 30 em 30, até 200\n",
        "array_intervalo2=np.arange(50,200,30)\n",
        "print(array_intervalo2)"
      ],
      "metadata": {
        "colab": {
          "base_uri": "https://localhost:8080/"
        },
        "id": "kKo0yDnhpRG3",
        "outputId": "82130270-48f0-425a-e507-d1862ab56b3d"
      },
      "execution_count": 9,
      "outputs": [
        {
          "output_type": "stream",
          "name": "stdout",
          "text": [
            "[ 50  80 110 140 170]\n"
          ]
        }
      ]
    },
    {
      "cell_type": "code",
      "source": [
        "#array com sequência\n",
        "#o argumento num, eh o tamanho do array\n",
        "#retstep, considera intervalos da equação da reta, o valor da inclinação\n",
        "#endpoint, considera o intervalo dado, ex: de 0 a 100, seu padrão eh True\n",
        "array_linear = np.linspace(0,100,num=20,endpoint=True,retstep=True)\n",
        "print(array_linear)"
      ],
      "metadata": {
        "colab": {
          "base_uri": "https://localhost:8080/"
        },
        "id": "zGjF6iDMqHmt",
        "outputId": "ed32f801-18bf-49e2-82a9-72c099184ae3"
      },
      "execution_count": 13,
      "outputs": [
        {
          "output_type": "stream",
          "name": "stdout",
          "text": [
            "(array([  0.        ,   5.26315789,  10.52631579,  15.78947368,\n",
            "        21.05263158,  26.31578947,  31.57894737,  36.84210526,\n",
            "        42.10526316,  47.36842105,  52.63157895,  57.89473684,\n",
            "        63.15789474,  68.42105263,  73.68421053,  78.94736842,\n",
            "        84.21052632,  89.47368421,  94.73684211, 100.        ]), 5.2631578947368425)\n"
          ]
        }
      ]
    },
    {
      "cell_type": "code",
      "source": [
        "#descobrindo o tamanho do array\n",
        "zero_array = np.zeros(shape=(5,3,6))\n",
        "print(zero_array)\n",
        "#forma do array, seus valores em cada eixo\n",
        "print(zero_array.shape)\n",
        "#quantos dados, eixo x vezes eixo y, vezes eixo z\n",
        "print(zero_array.size)\n",
        "#numero de dimensoes\n",
        "print(zero_array.ndim)"
      ],
      "metadata": {
        "id": "whZWbBKdsbek",
        "colab": {
          "base_uri": "https://localhost:8080/"
        },
        "outputId": "2ef28806-29df-47cb-a6ac-2bd274920691"
      },
      "execution_count": 14,
      "outputs": [
        {
          "output_type": "stream",
          "name": "stdout",
          "text": [
            "[[[0. 0. 0. 0. 0. 0.]\n",
            "  [0. 0. 0. 0. 0. 0.]\n",
            "  [0. 0. 0. 0. 0. 0.]]\n",
            "\n",
            " [[0. 0. 0. 0. 0. 0.]\n",
            "  [0. 0. 0. 0. 0. 0.]\n",
            "  [0. 0. 0. 0. 0. 0.]]\n",
            "\n",
            " [[0. 0. 0. 0. 0. 0.]\n",
            "  [0. 0. 0. 0. 0. 0.]\n",
            "  [0. 0. 0. 0. 0. 0.]]\n",
            "\n",
            " [[0. 0. 0. 0. 0. 0.]\n",
            "  [0. 0. 0. 0. 0. 0.]\n",
            "  [0. 0. 0. 0. 0. 0.]]\n",
            "\n",
            " [[0. 0. 0. 0. 0. 0.]\n",
            "  [0. 0. 0. 0. 0. 0.]\n",
            "  [0. 0. 0. 0. 0. 0.]]]\n",
            "(5, 3, 6)\n",
            "90\n",
            "3\n"
          ]
        }
      ]
    },
    {
      "cell_type": "code",
      "source": [
        "array2= np.array([1,2,3])\n",
        "print(array2)\n",
        "print(array.shape)\n",
        "print(array.ndim)"
      ],
      "metadata": {
        "colab": {
          "base_uri": "https://localhost:8080/"
        },
        "id": "sqpUKDaBuSoz",
        "outputId": "5c6a44c5-6721-4bd4-ce62-18e3733982cf"
      },
      "execution_count": 15,
      "outputs": [
        {
          "output_type": "stream",
          "name": "stdout",
          "text": [
            "[1 2 3]\n",
            "(2, 4)\n",
            "2\n"
          ]
        }
      ]
    },
    {
      "cell_type": "code",
      "source": [
        "array2d = array2[np.newaxis,:]\n",
        "print(array2d.shape)\n",
        "print(array2d.ndim)\n",
        "print(array2d)"
      ],
      "metadata": {
        "colab": {
          "base_uri": "https://localhost:8080/"
        },
        "id": "ANRzk2povR2B",
        "outputId": "3c6e12a8-d3be-405d-b910-1708d9486cb0"
      },
      "execution_count": 16,
      "outputs": [
        {
          "output_type": "stream",
          "name": "stdout",
          "text": [
            "(1, 3)\n",
            "2\n",
            "[[1 2 3]]\n"
          ]
        }
      ]
    },
    {
      "cell_type": "code",
      "source": [
        "array2d3 = array2[:,np.newaxis]\n",
        "print(array2d3.shape)\n",
        "print(array2d3.ndim)\n",
        "print(array2d3)"
      ],
      "metadata": {
        "colab": {
          "base_uri": "https://localhost:8080/"
        },
        "id": "FowsF_Icv8eO",
        "outputId": "dbe2ce7a-08f0-4827-f0f4-363e7e46e1f3"
      },
      "execution_count": 17,
      "outputs": [
        {
          "output_type": "stream",
          "name": "stdout",
          "text": [
            "(3, 1)\n",
            "2\n",
            "[[1]\n",
            " [2]\n",
            " [3]]\n"
          ]
        }
      ]
    },
    {
      "cell_type": "code",
      "source": [
        "#acessando item de um array\n",
        "print(array2d3[2][0])"
      ],
      "metadata": {
        "colab": {
          "base_uri": "https://localhost:8080/"
        },
        "id": "rIhQQCILwWT6",
        "outputId": "4d71f7ca-4791-4250-b11f-c0fa4332f4cb"
      },
      "execution_count": 18,
      "outputs": [
        {
          "output_type": "stream",
          "name": "stdout",
          "text": [
            "3\n"
          ]
        }
      ]
    },
    {
      "cell_type": "code",
      "source": [
        "#concatenando arrays\n",
        "a = np.array([41,2,3])\n",
        "b = np.array([22,98,74])\n",
        "#concatenate, passa uma tupla por parametro\n",
        "c = np.concatenate((a,b))\n",
        "d = np.concatenate((b,a))\n",
        "print(c)\n",
        "print(d)"
      ],
      "metadata": {
        "id": "dPwpyfbJxLQu",
        "outputId": "10330297-3f74-4193-d7c7-d00d20f6930c",
        "colab": {
          "base_uri": "https://localhost:8080/"
        }
      },
      "execution_count": 19,
      "outputs": [
        {
          "output_type": "stream",
          "name": "stdout",
          "text": [
            "[41  2  3 22 98 74]\n",
            "[22 98 74 41  2  3]\n"
          ]
        }
      ]
    },
    {
      "cell_type": "code",
      "source": [
        "#consultando itens de um array\n",
        "a = np.array([[1 , 2, 3, 4], [5, 6, 7, 8], [9, 10, 11, 12]])\n",
        "print(a)\n",
        "print('------------')\n",
        "maior_8= a [a>8]\n",
        "print(maior_8)\n",
        "\n",
        "print('-------------')\n",
        "#numeros pares\n",
        "resto = a[a%2==0]\n",
        "print(resto)"
      ],
      "metadata": {
        "id": "ao97p6_eSg1P",
        "outputId": "ff6655c1-3e55-4b87-f8d1-aa9738614108",
        "colab": {
          "base_uri": "https://localhost:8080/"
        }
      },
      "execution_count": 32,
      "outputs": [
        {
          "output_type": "stream",
          "name": "stdout",
          "text": [
            "[[ 1  2  3  4]\n",
            " [ 5  6  7  8]\n",
            " [ 9 10 11 12]]\n",
            "------------\n",
            "[ 9 10 11 12]\n",
            "-------------\n",
            "[ 2  4  6  8 10 12]\n"
          ]
        }
      ]
    },
    {
      "cell_type": "code",
      "source": [
        "#operaçoes com arrays\n",
        "a = np.array([1,2,3])\n",
        "soma = a.sum()\n",
        "max = a.max()\n",
        "min = a.min()\n",
        "media = a.mean()\n",
        "print(soma)\n",
        "print(max)\n",
        "print(min)\n",
        "print(media)"
      ],
      "metadata": {
        "id": "NuChp2FUTGhu",
        "outputId": "d4dbd061-574b-4b51-ebcc-0ec9791b1cab",
        "colab": {
          "base_uri": "https://localhost:8080/"
        }
      },
      "execution_count": 33,
      "outputs": [
        {
          "output_type": "stream",
          "name": "stdout",
          "text": [
            "6\n",
            "3\n",
            "1\n",
            "2.0\n"
          ]
        }
      ]
    },
    {
      "cell_type": "code",
      "source": [
        "#gerar numeros aleatorios\n",
        "from numpy.random import default_rng\n",
        "rng = default_rng()\n",
        "#gerar numeros aleatorio inteiro\n",
        "#o primeiro argumento ate onde vai o array, o segundo, as dimensoes do array\n",
        "integers = rng.integers(20, size=(2,4))\n",
        "print(integers)"
      ],
      "metadata": {
        "id": "A25V5LENVvCv",
        "outputId": "30f8f066-7f0a-43e2-8617-36c3bcf27d35",
        "colab": {
          "base_uri": "https://localhost:8080/"
        }
      },
      "execution_count": 39,
      "outputs": [
        {
          "output_type": "stream",
          "name": "stdout",
          "text": [
            "[[10  4  2  1]\n",
            " [ 8  6  5 17]]\n"
          ]
        }
      ]
    },
    {
      "cell_type": "code",
      "source": [
        "#arrays não permitem tipos de dados distintos:\n",
        "#array quando rece dados dinstintos, coneverte em str\n",
        "array = np.array([1,2,'Jenifer',3,4,5,6,7])\n",
        "print(array)"
      ],
      "metadata": {
        "id": "wJMXhQE6XSLo",
        "outputId": "538e2486-ab6c-4fac-9c9b-d0d64e4e11f3",
        "colab": {
          "base_uri": "https://localhost:8080/"
        }
      },
      "execution_count": 48,
      "outputs": [
        {
          "output_type": "stream",
          "name": "stdout",
          "text": [
            "['1' '2' 'Jenifer' '3' '4' '5' '6' '7']\n"
          ]
        }
      ]
    },
    {
      "cell_type": "code",
      "source": [
        "#já as listas sim:\n",
        "lista = [1,2 ,'Jenifer',3,4]\n",
        "print(lista)"
      ],
      "metadata": {
        "id": "3-Ix3j-QXdlX",
        "outputId": "d81da02d-1adf-4174-c8ae-39fdfe9f61b9",
        "colab": {
          "base_uri": "https://localhost:8080/"
        }
      },
      "execution_count": 47,
      "outputs": [
        {
          "output_type": "stream",
          "name": "stdout",
          "text": [
            "[1, 2, 'Jenifer', 3, 4]\n"
          ]
        }
      ]
    }
  ]
}