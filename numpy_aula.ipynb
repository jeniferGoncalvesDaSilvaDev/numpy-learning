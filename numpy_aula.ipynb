{
  "nbformat": 4,
  "nbformat_minor": 0,
  "metadata": {
    "colab": {
      "provenance": [],
      "authorship_tag": "ABX9TyPqV78MNDvvguPOxfg8vIaA",
      "include_colab_link": true
    },
    "kernelspec": {
      "name": "python3",
      "display_name": "Python 3"
    },
    "language_info": {
      "name": "python"
    }
  },
  "cells": [
    {
      "cell_type": "markdown",
      "metadata": {
        "id": "view-in-github",
        "colab_type": "text"
      },
      "source": [
        "<a href=\"https://colab.research.google.com/github/jeniferGoncalvesDaSilvaDev/numpy-learning/blob/main/numpy_aula.ipynb\" target=\"_parent\"><img src=\"https://colab.research.google.com/assets/colab-badge.svg\" alt=\"Open In Colab\"/></a>"
      ]
    },
    {
      "cell_type": "code",
      "execution_count": null,
      "metadata": {
        "id": "2hKnuHdHhQU4"
      },
      "outputs": [],
      "source": [
        "import numpy as np"
      ]
    },
    {
      "cell_type": "code",
      "source": [
        "#um array, pode ser classificado\n",
        "#1D- 1 dimensão, um vector ou vetor\n",
        "#2D- 2 dimensões, matriz\n",
        "#3d- 3 dimensões, tensor"
      ],
      "metadata": {
        "id": "G6eXvKMMhbRp"
      },
      "execution_count": null,
      "outputs": []
    },
    {
      "cell_type": "code",
      "source": [
        "#criando um array\n",
        "array = np.array([[24,5,6,8], [235,56,98,40]])\n",
        "#uma matriz, array de 2D\n",
        "print(array)"
      ],
      "metadata": {
        "colab": {
          "base_uri": "https://localhost:8080/"
        },
        "id": "eXzADNpqjjC9",
        "outputId": "7acea4a1-dc08-4c59-9da3-1a6f17aadd0d"
      },
      "execution_count": null,
      "outputs": [
        {
          "output_type": "stream",
          "name": "stdout",
          "text": [
            "[[ 24   5   6   8]\n",
            " [235  56  98  40]]\n"
          ]
        }
      ]
    },
    {
      "cell_type": "code",
      "source": [
        "print(type(array))"
      ],
      "metadata": {
        "colab": {
          "base_uri": "https://localhost:8080/"
        },
        "id": "xVSQ8FFcl2-Q",
        "outputId": "7790be85-bcd7-4cba-f66a-848468150e2e"
      },
      "execution_count": null,
      "outputs": [
        {
          "output_type": "stream",
          "name": "stdout",
          "text": [
            "<class 'numpy.ndarray'>\n"
          ]
        }
      ]
    },
    {
      "cell_type": "code",
      "source": [
        "#um array, que tem a diagonal principal ou secundária com zeros ou uns\n",
        "zero_array = np.zeros(shape=(5,3,6))\n",
        "print(zero_array)"
      ],
      "metadata": {
        "colab": {
          "base_uri": "https://localhost:8080/"
        },
        "id": "sFUJ70_gmh8U",
        "outputId": "0b97b36f-4c62-44fc-9896-3583117ca55d"
      },
      "execution_count": null,
      "outputs": [
        {
          "output_type": "stream",
          "name": "stdout",
          "text": [
            "[[[0. 0. 0. 0. 0. 0.]\n",
            "  [0. 0. 0. 0. 0. 0.]\n",
            "  [0. 0. 0. 0. 0. 0.]]\n",
            "\n",
            " [[0. 0. 0. 0. 0. 0.]\n",
            "  [0. 0. 0. 0. 0. 0.]\n",
            "  [0. 0. 0. 0. 0. 0.]]\n",
            "\n",
            " [[0. 0. 0. 0. 0. 0.]\n",
            "  [0. 0. 0. 0. 0. 0.]\n",
            "  [0. 0. 0. 0. 0. 0.]]\n",
            "\n",
            " [[0. 0. 0. 0. 0. 0.]\n",
            "  [0. 0. 0. 0. 0. 0.]\n",
            "  [0. 0. 0. 0. 0. 0.]]\n",
            "\n",
            " [[0. 0. 0. 0. 0. 0.]\n",
            "  [0. 0. 0. 0. 0. 0.]\n",
            "  [0. 0. 0. 0. 0. 0.]]]\n"
          ]
        }
      ]
    },
    {
      "cell_type": "code",
      "source": [
        "#array com valores de 1\n",
        "um_array = np.ones(shape =(2,3))\n",
        "print(um_array)"
      ],
      "metadata": {
        "colab": {
          "base_uri": "https://localhost:8080/"
        },
        "id": "pasa3ZH1nqTz",
        "outputId": "7d113412-50fd-413f-bbaf-d84397423b11"
      },
      "execution_count": null,
      "outputs": [
        {
          "output_type": "stream",
          "name": "stdout",
          "text": [
            "[[1. 1. 1.]\n",
            " [1. 1. 1.]]\n"
          ]
        }
      ]
    },
    {
      "cell_type": "code",
      "source": [
        "#craindo um array vazio\n",
        "#cria valores aleatorios\n",
        "vazio_array = np.empty(shape =(3,4))\n",
        "print(vazio_array)"
      ],
      "metadata": {
        "colab": {
          "base_uri": "https://localhost:8080/"
        },
        "id": "bpeVh_WgoNmS",
        "outputId": "60ad9e5c-5ec3-4eab-b1ec-b8ab125cee55"
      },
      "execution_count": null,
      "outputs": [
        {
          "output_type": "stream",
          "name": "stdout",
          "text": [
            "[[4.7121343e-310 0.0000000e+000 0.0000000e+000 0.0000000e+000]\n",
            " [0.0000000e+000 0.0000000e+000 0.0000000e+000 0.0000000e+000]\n",
            " [0.0000000e+000 0.0000000e+000 0.0000000e+000 0.0000000e+000]]\n"
          ]
        }
      ]
    },
    {
      "cell_type": "code",
      "source": [
        "#criar um array com um intervalo de números\n",
        "array_intervalo = np.arange(10)\n",
        "print(array_intervalo)"
      ],
      "metadata": {
        "colab": {
          "base_uri": "https://localhost:8080/"
        },
        "id": "pB5NVjPnoxUW",
        "outputId": "e244dd04-df4f-4bbe-fc1d-16f9dfc298b6"
      },
      "execution_count": null,
      "outputs": [
        {
          "output_type": "stream",
          "name": "stdout",
          "text": [
            "[0 1 2 3 4 5 6 7 8 9]\n"
          ]
        }
      ]
    },
    {
      "cell_type": "code",
      "source": [
        "#comecar com um valor:50, vai de 30 em 30, até 200\n",
        "array_intervalo2=np.arange(50,200,30)\n",
        "print(array_intervalo2)"
      ],
      "metadata": {
        "colab": {
          "base_uri": "https://localhost:8080/"
        },
        "id": "kKo0yDnhpRG3",
        "outputId": "e2b1c210-5bfe-4380-a4e4-020cc7d9d58f"
      },
      "execution_count": null,
      "outputs": [
        {
          "output_type": "stream",
          "name": "stdout",
          "text": [
            "[ 50  80 110 140 170]\n"
          ]
        }
      ]
    },
    {
      "cell_type": "code",
      "source": [
        "#array com sequência\n",
        "#o argumento num, eh o tamanho do array\n",
        "#retstep, considera intervalos da equação da reta, o valor da inclinação\n",
        "#endpoint, considera o intervalo dado, ex: de 0 a 100, seu padrão eh True\n",
        "array_linear = np.linspace(0,100,num=20,endpoint=True,retstep=False)\n",
        "print(array_linear)"
      ],
      "metadata": {
        "colab": {
          "base_uri": "https://localhost:8080/"
        },
        "id": "zGjF6iDMqHmt",
        "outputId": "6d29e42c-b01c-4780-e128-e0111628e621"
      },
      "execution_count": null,
      "outputs": [
        {
          "output_type": "stream",
          "name": "stdout",
          "text": [
            "[  0.           5.26315789  10.52631579  15.78947368  21.05263158\n",
            "  26.31578947  31.57894737  36.84210526  42.10526316  47.36842105\n",
            "  52.63157895  57.89473684  63.15789474  68.42105263  73.68421053\n",
            "  78.94736842  84.21052632  89.47368421  94.73684211 100.        ]\n"
          ]
        }
      ]
    },
    {
      "cell_type": "code",
      "source": [
        "#descobrindo o tamanho do array\n",
        "zero_array = np.zeros(shape=(5,3,6))\n",
        "print(zero_array)\n",
        "#forma do array, seus valores em cada eixo\n",
        "print(zero_array.shape)\n",
        "#quantos dados, eixo x vezes eixo y, vezes eixo z\n",
        "print(zero_array.size)\n",
        "#numero de dimensoes\n",
        "print(zero_array.ndim)"
      ],
      "metadata": {
        "id": "whZWbBKdsbek",
        "colab": {
          "base_uri": "https://localhost:8080/"
        },
        "outputId": "c866e1a9-3d78-4b95-dbfe-537e0811719f"
      },
      "execution_count": null,
      "outputs": [
        {
          "output_type": "stream",
          "name": "stdout",
          "text": [
            "[[[0. 0. 0. 0. 0. 0.]\n",
            "  [0. 0. 0. 0. 0. 0.]\n",
            "  [0. 0. 0. 0. 0. 0.]]\n",
            "\n",
            " [[0. 0. 0. 0. 0. 0.]\n",
            "  [0. 0. 0. 0. 0. 0.]\n",
            "  [0. 0. 0. 0. 0. 0.]]\n",
            "\n",
            " [[0. 0. 0. 0. 0. 0.]\n",
            "  [0. 0. 0. 0. 0. 0.]\n",
            "  [0. 0. 0. 0. 0. 0.]]\n",
            "\n",
            " [[0. 0. 0. 0. 0. 0.]\n",
            "  [0. 0. 0. 0. 0. 0.]\n",
            "  [0. 0. 0. 0. 0. 0.]]\n",
            "\n",
            " [[0. 0. 0. 0. 0. 0.]\n",
            "  [0. 0. 0. 0. 0. 0.]\n",
            "  [0. 0. 0. 0. 0. 0.]]]\n",
            "(5, 3, 6)\n",
            "90\n",
            "3\n"
          ]
        }
      ]
    },
    {
      "cell_type": "code",
      "source": [
        "array2= np.array([1,2,3])\n",
        "print(array2)\n",
        "print(array.shape)\n",
        "print(array.ndim)"
      ],
      "metadata": {
        "colab": {
          "base_uri": "https://localhost:8080/"
        },
        "id": "sqpUKDaBuSoz",
        "outputId": "5e299b39-3cf6-42b1-cae2-52ec8c195af8"
      },
      "execution_count": null,
      "outputs": [
        {
          "output_type": "stream",
          "name": "stdout",
          "text": [
            "[1 2 3]\n",
            "(2, 4)\n",
            "2\n"
          ]
        }
      ]
    },
    {
      "cell_type": "code",
      "source": [
        "array2d = array2[np.newaxis,:]\n",
        "print(array2d.shape)\n",
        "print(array2d.ndim)\n",
        "print(array2d)"
      ],
      "metadata": {
        "colab": {
          "base_uri": "https://localhost:8080/"
        },
        "id": "ANRzk2povR2B",
        "outputId": "5576c7b6-c671-4c6f-80d6-9c0cb8cefe77"
      },
      "execution_count": null,
      "outputs": [
        {
          "output_type": "stream",
          "name": "stdout",
          "text": [
            "(1, 3)\n",
            "2\n",
            "[[1 2 3]]\n"
          ]
        }
      ]
    },
    {
      "cell_type": "code",
      "source": [
        "array2d3 = array2[:,np.newaxis]\n",
        "print(array2d3.shape)\n",
        "print(array2d3.ndim)\n",
        "print(array2d3)"
      ],
      "metadata": {
        "colab": {
          "base_uri": "https://localhost:8080/"
        },
        "id": "FowsF_Icv8eO",
        "outputId": "b4db1f9c-4b2c-45eb-e4dd-e752f7d049ac"
      },
      "execution_count": null,
      "outputs": [
        {
          "output_type": "stream",
          "name": "stdout",
          "text": [
            "(3, 1)\n",
            "2\n",
            "[[1]\n",
            " [2]\n",
            " [3]]\n"
          ]
        }
      ]
    },
    {
      "cell_type": "code",
      "source": [
        "#acessando item de um array\n",
        "print(array2d3[2][0])"
      ],
      "metadata": {
        "colab": {
          "base_uri": "https://localhost:8080/"
        },
        "id": "rIhQQCILwWT6",
        "outputId": "0867064a-e6ab-479d-b9db-8fc8dd1fa3d7"
      },
      "execution_count": null,
      "outputs": [
        {
          "output_type": "stream",
          "name": "stdout",
          "text": [
            "3\n"
          ]
        }
      ]
    },
    {
      "cell_type": "code",
      "source": [
        "#concatenando arrays"
      ],
      "metadata": {
        "id": "dPwpyfbJxLQu"
      },
      "execution_count": null,
      "outputs": []
    }
  ]
}